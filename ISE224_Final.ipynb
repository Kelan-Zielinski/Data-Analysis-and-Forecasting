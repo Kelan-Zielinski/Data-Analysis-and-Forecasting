{
 "cells": [
  {
   "cell_type": "markdown",
   "id": "e1dd06ac",
   "metadata": {},
   "source": [
    "<h1>1) Group Information</h1>\n",
    "\n",
    "<div style=\"background:white;color:blue; color:black;\">\n",
    "    <p></p>\n",
    "    <p>ISE224</p>\n",
    "    <p>Final Project</p>\n",
    "    <p>Group: 17</p>\n",
    "    <ul>\n",
    "        <li><span style=\"color:blue;\">Name 1:</span> <strong>Kelan Zielinski</strong></li>\n",
    "        <li><span style=\"color:blue;\">Email 1:</span> <strong>ksz12@miami.edu</strong></li>\n",
    "        <li><span style=\"color:blue;\">Name 2:</span> <strong>Francisco Ortiz</strong></li>\n",
    "        <li><span style=\"color:blue;\">Email 2:</span> <strong>fjo15@miami.edu</strong></li>\n",
    "    </ul>\n",
    "</div>\n"
   ]
  },
  {
   "cell_type": "markdown",
   "id": "51faa355",
   "metadata": {},
   "source": [
    "<h1>2) Introduction</h1>\n",
    "<p>UMart, a national retail chain with diverse product offerings, operates stores across the USA. Dr. Chen, the store manager at the Kendal, FL location, enlisted the Business Analytics group, comprising Mr. Clever and Ms. Bright, to analyze two years of sales data. This data, encompassing transaction details such as Transaction ID, Item Type, Vendor ID, and more, was stored in a data warehouse. \n",
    "    Dr. Chen received a request from UMart's CEO, Dr. Biswas, seeking insights into store performance. Dr. Biswas specified a deadline for a report and hinted at potential rewards for exceeding expectations. To assist Dr. Chen, you will act as Mr. Clever and Ms. Bright, employing Python programming within Jupyter Notebook to address Dr. Biswas's queries and generate a comprehensive report.</p>"
   ]
  },
  {
   "cell_type": "markdown",
   "id": "18dfb9f9",
   "metadata": {},
   "source": [
    "<h1>3) Methodologies/ Equations Used</h1>\n",
    "<ul>\n",
    "    <li>Naïve Trend Model: 𝑌̂(𝑡+1) = 𝑌(𝑡) + (𝑌(𝑡) − 𝑌(𝑡−1))</li>\n",
    "    <li>n-Period Moving Average: 𝑌̂(𝑡+1) =(𝑌(𝑡)+ 𝑌(𝑡−1)+ 𝑌(𝑡−2) +...+ 𝑌(𝑡−𝑛) +1) / n</li>\n",
    "    <li>Exponential Smoothing: 𝑌̂(𝑡+1) = 𝛼𝑌(𝑡) + (1 − 𝛼)𝑌(𝑡)</li>\n",
    "    <li>Mean Error Squared: 𝑀𝑆𝐸 =∑𝑖=1 ((𝑌𝑖 − 𝑌̂𝑖)^2) / 𝑛 </li>\n",
    "</ul>"
   ]
  },
  {
   "cell_type": "markdown",
   "id": "e1012443",
   "metadata": {},
   "source": [
    "<h1>4) Code/ Comments</h1>"
   ]
  },
  {
   "cell_type": "code",
   "execution_count": 1,
   "id": "83830e0b",
   "metadata": {},
   "outputs": [
    {
     "ename": "ModuleNotFoundError",
     "evalue": "No module named 'pandas'",
     "output_type": "error",
     "traceback": [
      "\u001b[0;31m---------------------------------------------------------------------------\u001b[0m",
      "\u001b[0;31mModuleNotFoundError\u001b[0m                       Traceback (most recent call last)",
      "Cell \u001b[0;32mIn[1], line 1\u001b[0m\n\u001b[0;32m----> 1\u001b[0m \u001b[38;5;28;01mimport\u001b[39;00m \u001b[38;5;21;01mpandas\u001b[39;00m \u001b[38;5;28;01mas\u001b[39;00m \u001b[38;5;21;01mpd\u001b[39;00m \u001b[38;5;66;03m#import pandas package\u001b[39;00m\n",
      "\u001b[0;31mModuleNotFoundError\u001b[0m: No module named 'pandas'"
     ]
    }
   ],
   "source": [
    "import pandas as pd #import pandas package"
   ]
  },
  {
   "cell_type": "code",
   "execution_count": null,
   "id": "48c05810",
   "metadata": {},
   "outputs": [],
   "source": [
    "def partOne(InputFileName): #function for part one\n",
    "    transaction = pd.read_csv(InputFileName) #using pandas package to read a csv file and assign to object transacation\n",
    "    return transaction #return the object transaction"
   ]
  },
  {
   "cell_type": "code",
   "execution_count": null,
   "id": "d8d1e049",
   "metadata": {},
   "outputs": [
    {
     "data": {
      "text/html": [
       "<div>\n",
       "<style scoped>\n",
       "    .dataframe tbody tr th:only-of-type {\n",
       "        vertical-align: middle;\n",
       "    }\n",
       "\n",
       "    .dataframe tbody tr th {\n",
       "        vertical-align: top;\n",
       "    }\n",
       "\n",
       "    .dataframe thead th {\n",
       "        text-align: right;\n",
       "    }\n",
       "</style>\n",
       "<table border=\"1\" class=\"dataframe\">\n",
       "  <thead>\n",
       "    <tr style=\"text-align: right;\">\n",
       "      <th></th>\n",
       "      <th>TransactionID</th>\n",
       "      <th>ItemType</th>\n",
       "      <th>VendorID</th>\n",
       "      <th>ItemID</th>\n",
       "      <th>CustomerID</th>\n",
       "      <th>Week</th>\n",
       "      <th>Day</th>\n",
       "      <th>StoreID</th>\n",
       "      <th>UnitsSold</th>\n",
       "      <th>CouponOrigin</th>\n",
       "      <th>CouponValue_Cents</th>\n",
       "      <th>CouponID</th>\n",
       "    </tr>\n",
       "  </thead>\n",
       "  <tbody>\n",
       "    <tr>\n",
       "      <th>0</th>\n",
       "      <td>1</td>\n",
       "      <td>11</td>\n",
       "      <td>54500</td>\n",
       "      <td>5251</td>\n",
       "      <td>15100503</td>\n",
       "      <td>614</td>\n",
       "      <td>1</td>\n",
       "      <td>1522</td>\n",
       "      <td>1</td>\n",
       "      <td>0</td>\n",
       "      <td>0</td>\n",
       "      <td>1</td>\n",
       "    </tr>\n",
       "    <tr>\n",
       "      <th>1</th>\n",
       "      <td>2</td>\n",
       "      <td>5</td>\n",
       "      <td>17800</td>\n",
       "      <td>818</td>\n",
       "      <td>15101519</td>\n",
       "      <td>614</td>\n",
       "      <td>1</td>\n",
       "      <td>1542</td>\n",
       "      <td>2</td>\n",
       "      <td>0</td>\n",
       "      <td>0</td>\n",
       "      <td>1</td>\n",
       "    </tr>\n",
       "    <tr>\n",
       "      <th>2</th>\n",
       "      <td>2</td>\n",
       "      <td>8</td>\n",
       "      <td>27500</td>\n",
       "      <td>1486</td>\n",
       "      <td>15101519</td>\n",
       "      <td>614</td>\n",
       "      <td>1</td>\n",
       "      <td>1542</td>\n",
       "      <td>1</td>\n",
       "      <td>0</td>\n",
       "      <td>0</td>\n",
       "      <td>1</td>\n",
       "    </tr>\n",
       "    <tr>\n",
       "      <th>3</th>\n",
       "      <td>2</td>\n",
       "      <td>24</td>\n",
       "      <td>36632</td>\n",
       "      <td>2419</td>\n",
       "      <td>15101519</td>\n",
       "      <td>614</td>\n",
       "      <td>1</td>\n",
       "      <td>1542</td>\n",
       "      <td>2</td>\n",
       "      <td>0</td>\n",
       "      <td>0</td>\n",
       "      <td>1</td>\n",
       "    </tr>\n",
       "    <tr>\n",
       "      <th>4</th>\n",
       "      <td>3</td>\n",
       "      <td>2</td>\n",
       "      <td>36200</td>\n",
       "      <td>2352</td>\n",
       "      <td>15105601</td>\n",
       "      <td>614</td>\n",
       "      <td>1</td>\n",
       "      <td>1522</td>\n",
       "      <td>1</td>\n",
       "      <td>0</td>\n",
       "      <td>0</td>\n",
       "      <td>1</td>\n",
       "    </tr>\n",
       "    <tr>\n",
       "      <th>...</th>\n",
       "      <td>...</td>\n",
       "      <td>...</td>\n",
       "      <td>...</td>\n",
       "      <td>...</td>\n",
       "      <td>...</td>\n",
       "      <td>...</td>\n",
       "      <td>...</td>\n",
       "      <td>...</td>\n",
       "      <td>...</td>\n",
       "      <td>...</td>\n",
       "      <td>...</td>\n",
       "      <td>...</td>\n",
       "    </tr>\n",
       "    <tr>\n",
       "      <th>207869</th>\n",
       "      <td>50918</td>\n",
       "      <td>11</td>\n",
       "      <td>75900</td>\n",
       "      <td>6423</td>\n",
       "      <td>15813311</td>\n",
       "      <td>717</td>\n",
       "      <td>7</td>\n",
       "      <td>1521</td>\n",
       "      <td>1</td>\n",
       "      <td>0</td>\n",
       "      <td>0</td>\n",
       "      <td>1</td>\n",
       "    </tr>\n",
       "    <tr>\n",
       "      <th>207870</th>\n",
       "      <td>50919</td>\n",
       "      <td>5</td>\n",
       "      <td>38000</td>\n",
       "      <td>2895</td>\n",
       "      <td>15814913</td>\n",
       "      <td>717</td>\n",
       "      <td>7</td>\n",
       "      <td>1542</td>\n",
       "      <td>1</td>\n",
       "      <td>0</td>\n",
       "      <td>0</td>\n",
       "      <td>1</td>\n",
       "    </tr>\n",
       "    <tr>\n",
       "      <th>207871</th>\n",
       "      <td>50919</td>\n",
       "      <td>13</td>\n",
       "      <td>41483</td>\n",
       "      <td>3892</td>\n",
       "      <td>15814913</td>\n",
       "      <td>717</td>\n",
       "      <td>7</td>\n",
       "      <td>1542</td>\n",
       "      <td>1</td>\n",
       "      <td>0</td>\n",
       "      <td>0</td>\n",
       "      <td>1</td>\n",
       "    </tr>\n",
       "    <tr>\n",
       "      <th>207872</th>\n",
       "      <td>50919</td>\n",
       "      <td>20</td>\n",
       "      <td>78000</td>\n",
       "      <td>6554</td>\n",
       "      <td>15814913</td>\n",
       "      <td>717</td>\n",
       "      <td>7</td>\n",
       "      <td>1542</td>\n",
       "      <td>1</td>\n",
       "      <td>0</td>\n",
       "      <td>0</td>\n",
       "      <td>1</td>\n",
       "    </tr>\n",
       "    <tr>\n",
       "      <th>207873</th>\n",
       "      <td>50919</td>\n",
       "      <td>23</td>\n",
       "      <td>54000</td>\n",
       "      <td>5176</td>\n",
       "      <td>15814913</td>\n",
       "      <td>717</td>\n",
       "      <td>7</td>\n",
       "      <td>1542</td>\n",
       "      <td>1</td>\n",
       "      <td>0</td>\n",
       "      <td>0</td>\n",
       "      <td>1</td>\n",
       "    </tr>\n",
       "  </tbody>\n",
       "</table>\n",
       "<p>207874 rows × 12 columns</p>\n",
       "</div>"
      ],
      "text/plain": [
       "        TransactionID  ItemType  VendorID  ItemID  CustomerID  Week  Day  \\\n",
       "0                   1        11     54500    5251    15100503   614    1   \n",
       "1                   2         5     17800     818    15101519   614    1   \n",
       "2                   2         8     27500    1486    15101519   614    1   \n",
       "3                   2        24     36632    2419    15101519   614    1   \n",
       "4                   3         2     36200    2352    15105601   614    1   \n",
       "...               ...       ...       ...     ...         ...   ...  ...   \n",
       "207869          50918        11     75900    6423    15813311   717    7   \n",
       "207870          50919         5     38000    2895    15814913   717    7   \n",
       "207871          50919        13     41483    3892    15814913   717    7   \n",
       "207872          50919        20     78000    6554    15814913   717    7   \n",
       "207873          50919        23     54000    5176    15814913   717    7   \n",
       "\n",
       "        StoreID  UnitsSold  CouponOrigin  CouponValue_Cents  CouponID  \n",
       "0          1522          1             0                  0         1  \n",
       "1          1542          2             0                  0         1  \n",
       "2          1542          1             0                  0         1  \n",
       "3          1542          2             0                  0         1  \n",
       "4          1522          1             0                  0         1  \n",
       "...         ...        ...           ...                ...       ...  \n",
       "207869     1521          1             0                  0         1  \n",
       "207870     1542          1             0                  0         1  \n",
       "207871     1542          1             0                  0         1  \n",
       "207872     1542          1             0                  0         1  \n",
       "207873     1542          1             0                  0         1  \n",
       "\n",
       "[207874 rows x 12 columns]"
      ]
     },
     "execution_count": 59,
     "metadata": {},
     "output_type": "execute_result"
    }
   ],
   "source": [
    "partOne('TransactionData.csv') #run partOne function to display the transaction"
   ]
  },
  {
   "cell_type": "code",
   "execution_count": null,
   "id": "facc1fb0",
   "metadata": {},
   "outputs": [],
   "source": [
    "def partTwo(transaction, ItemType, OutputFileName): #function for part two with 3 parameters\n",
    "    trans = pd.read_csv(transaction) #using pandas package to read a csv file and assign to object trans\n",
    "    trans1 = trans.loc[trans['ItemType'] == ItemType, :] #locate all items under ItemType column and assign to object trans1\n",
    "    weeklyUnitsSold = trans1.loc[:, ['Week', 'UnitsSold']] #locate all values under Week and Units sold and assign to object\n",
    "    weeklyUnitsSold.to_csv(OutputFileName, index=False) #output results to an output file\n",
    "    return weeklyUnitsSold #return object to output the table"
   ]
  },
  {
   "cell_type": "code",
   "execution_count": null,
   "id": "272e52d1",
   "metadata": {},
   "outputs": [
    {
     "data": {
      "text/html": [
       "<div>\n",
       "<style scoped>\n",
       "    .dataframe tbody tr th:only-of-type {\n",
       "        vertical-align: middle;\n",
       "    }\n",
       "\n",
       "    .dataframe tbody tr th {\n",
       "        vertical-align: top;\n",
       "    }\n",
       "\n",
       "    .dataframe thead th {\n",
       "        text-align: right;\n",
       "    }\n",
       "</style>\n",
       "<table border=\"1\" class=\"dataframe\">\n",
       "  <thead>\n",
       "    <tr style=\"text-align: right;\">\n",
       "      <th></th>\n",
       "      <th>Week</th>\n",
       "      <th>UnitsSold</th>\n",
       "    </tr>\n",
       "  </thead>\n",
       "  <tbody>\n",
       "    <tr>\n",
       "      <th>0</th>\n",
       "      <td>614</td>\n",
       "      <td>1</td>\n",
       "    </tr>\n",
       "    <tr>\n",
       "      <th>24</th>\n",
       "      <td>614</td>\n",
       "      <td>1</td>\n",
       "    </tr>\n",
       "    <tr>\n",
       "      <th>41</th>\n",
       "      <td>614</td>\n",
       "      <td>1</td>\n",
       "    </tr>\n",
       "    <tr>\n",
       "      <th>42</th>\n",
       "      <td>614</td>\n",
       "      <td>1</td>\n",
       "    </tr>\n",
       "    <tr>\n",
       "      <th>43</th>\n",
       "      <td>614</td>\n",
       "      <td>1</td>\n",
       "    </tr>\n",
       "    <tr>\n",
       "      <th>...</th>\n",
       "      <td>...</td>\n",
       "      <td>...</td>\n",
       "    </tr>\n",
       "    <tr>\n",
       "      <th>207764</th>\n",
       "      <td>717</td>\n",
       "      <td>1</td>\n",
       "    </tr>\n",
       "    <tr>\n",
       "      <th>207766</th>\n",
       "      <td>717</td>\n",
       "      <td>1</td>\n",
       "    </tr>\n",
       "    <tr>\n",
       "      <th>207790</th>\n",
       "      <td>717</td>\n",
       "      <td>1</td>\n",
       "    </tr>\n",
       "    <tr>\n",
       "      <th>207828</th>\n",
       "      <td>717</td>\n",
       "      <td>2</td>\n",
       "    </tr>\n",
       "    <tr>\n",
       "      <th>207869</th>\n",
       "      <td>717</td>\n",
       "      <td>1</td>\n",
       "    </tr>\n",
       "  </tbody>\n",
       "</table>\n",
       "<p>8606 rows × 2 columns</p>\n",
       "</div>"
      ],
      "text/plain": [
       "        Week  UnitsSold\n",
       "0        614          1\n",
       "24       614          1\n",
       "41       614          1\n",
       "42       614          1\n",
       "43       614          1\n",
       "...      ...        ...\n",
       "207764   717          1\n",
       "207766   717          1\n",
       "207790   717          1\n",
       "207828   717          2\n",
       "207869   717          1\n",
       "\n",
       "[8606 rows x 2 columns]"
      ]
     },
     "execution_count": 61,
     "metadata": {},
     "output_type": "execute_result"
    }
   ],
   "source": [
    "partTwo('TransactionData.csv', 11, 'output.csv') #run partTwo function to display weeklyUnitsSold table"
   ]
  },
  {
   "cell_type": "code",
   "execution_count": null,
   "id": "90ea4b37",
   "metadata": {},
   "outputs": [],
   "source": [
    "import matplotlib.pyplot as plt #import plot package"
   ]
  },
  {
   "cell_type": "code",
   "execution_count": null,
   "id": "b8d88b5b",
   "metadata": {},
   "outputs": [],
   "source": [
    "def partThree(weeklyUnitsSold): #define a function with one parameter\n",
    "    x = weeklyUnitsSold.Week #set weeks of table to x\n",
    "    y = weeklyUnitsSold.UnitsSold #set units sold of table to y\n",
    "    plt.title('Weekly Units Sold') #label plot\n",
    "    plt.xlabel('Week') #label plot\n",
    "    plt.ylabel('Units Sold') #label plot\n",
    "    plt.plot(x, y) #plot x and y given the values of x and y\n",
    "    plt.show() #display plot"
   ]
  },
  {
   "cell_type": "code",
   "execution_count": null,
   "id": "829a10c4",
   "metadata": {},
   "outputs": [
    {
     "data": {
      "image/png": "[encoded data removed]",
      "text/plain": [
       "<Figure size 640x480 with 1 Axes>"
      ]
     },
     "metadata": {},
     "output_type": "display_data"
    }
   ],
   "source": [
    "partThree(partTwo('TransactionData.csv', 11, 'output.csv')) #run partThree funtion to display the plot given transaction data"
   ]
  },
  {
   "cell_type": "code",
   "execution_count": null,
   "id": "2b5162d6",
   "metadata": {},
   "outputs": [],
   "source": [
    "def partFour(weeklyUnitSold, fromWeek=664, to=717): #define function with three parameters\n",
    "    NT = []\n",
    "    ytMinus1 = weeklyUnitSold.iloc[fromWeek - 2, 1]  #Y(t-1) is the units sold of the week before the start week\n",
    "    yt = weeklyUnitSold.iloc[fromWeek - 1, 1]\n",
    "\n",
    "    for week in range(fromWeek, to + 1):\n",
    "        ytPlus1 = yt + (yt - ytMinus1) #naive trend method\n",
    "   \n",
    "        NT.append([week, ytPlus1]) #append week and forecasting result to the list NT\n",
    "   \n",
    "        ytMinus1 = yt #update Y(t-1) and Y(t) for the next iteration\n",
    "        yt = ytPlus1\n",
    "        \n",
    "    return NT"
   ]
  },
  {
   "cell_type": "code",
   "execution_count": null,
   "id": "c50f83ea",
   "metadata": {},
   "outputs": [
    {
     "data": {
      "text/plain": [
       "[[664, 1],\n",
       " [665, 1],\n",
       " [666, 1],\n",
       " [667, 1],\n",
       " [668, 1],\n",
       " [669, 1],\n",
       " [670, 1],\n",
       " [671, 1],\n",
       " [672, 1],\n",
       " [673, 1],\n",
       " [674, 1],\n",
       " [675, 1],\n",
       " [676, 1],\n",
       " [677, 1],\n",
       " [678, 1],\n",
       " [679, 1],\n",
       " [680, 1],\n",
       " [681, 1],\n",
       " [682, 1],\n",
       " [683, 1],\n",
       " [684, 1],\n",
       " [685, 1],\n",
       " [686, 1],\n",
       " [687, 1],\n",
       " [688, 1],\n",
       " [689, 1],\n",
       " [690, 1],\n",
       " [691, 1],\n",
       " [692, 1],\n",
       " [693, 1],\n",
       " [694, 1],\n",
       " [695, 1],\n",
       " [696, 1],\n",
       " [697, 1],\n",
       " [698, 1],\n",
       " [699, 1],\n",
       " [700, 1],\n",
       " [701, 1],\n",
       " [702, 1],\n",
       " [703, 1],\n",
       " [704, 1],\n",
       " [705, 1],\n",
       " [706, 1],\n",
       " [707, 1],\n",
       " [708, 1],\n",
       " [709, 1],\n",
       " [710, 1],\n",
       " [711, 1],\n",
       " [712, 1],\n",
       " [713, 1],\n",
       " [714, 1],\n",
       " [715, 1],\n",
       " [716, 1],\n",
       " [717, 1]]"
      ]
     },
     "execution_count": 66,
     "metadata": {},
     "output_type": "execute_result"
    }
   ],
   "source": [
    "partFour(partTwo('TransactionData.csv', 11, 'output.csv'), 664, 717)"
   ]
  },
  {
   "cell_type": "code",
   "execution_count": null,
   "id": "694d3dc7",
   "metadata": {},
   "outputs": [],
   "source": [
    "def partFive(weeklyUnitSold, n, fromWeek=664, to=717): #define function with three parameters\n",
    "    MA = []\n",
    "    \n",
    "    for week in range(fromWeek, to): #iterate through each week\n",
    "        total_units = 0\n",
    "        for i in range(n):\n",
    "            total_units += weeklyUnitSold.iloc[week - i,1]\n",
    "        forecasted_value = total_units / n #calculate MA for the current week\n",
    "        MA.append([week + 1, forecasted_value]) #append to array\n",
    "        \n",
    "    return MA"
   ]
  },
  {
   "cell_type": "code",
   "execution_count": null,
   "id": "8a57bce2",
   "metadata": {},
   "outputs": [
    {
     "data": {
      "text/plain": [
       "[[665, 1.0],\n",
       " [666, 1.25],\n",
       " [667, 1.25],\n",
       " [668, 1.25],\n",
       " [669, 1.25],\n",
       " [670, 1.0],\n",
       " [671, 1.0],\n",
       " [672, 1.0],\n",
       " [673, 1.0],\n",
       " [674, 1.0],\n",
       " [675, 1.25],\n",
       " [676, 1.5],\n",
       " [677, 1.5],\n",
       " [678, 1.75],\n",
       " [679, 1.75],\n",
       " [680, 1.75],\n",
       " [681, 2.0],\n",
       " [682, 2.5],\n",
       " [683, 2.25],\n",
       " [684, 2.0],\n",
       " [685, 1.75],\n",
       " [686, 1.25],\n",
       " [687, 1.25],\n",
       " [688, 1.25],\n",
       " [689, 1.25],\n",
       " [690, 1.0],\n",
       " [691, 1.0],\n",
       " [692, 1.0],\n",
       " [693, 1.25],\n",
       " [694, 1.25],\n",
       " [695, 1.75],\n",
       " [696, 1.75],\n",
       " [697, 1.75],\n",
       " [698, 2.0],\n",
       " [699, 1.5],\n",
       " [700, 1.5],\n",
       " [701, 1.25],\n",
       " [702, 1.0],\n",
       " [703, 1.0],\n",
       " [704, 1.25],\n",
       " [705, 1.25],\n",
       " [706, 1.25],\n",
       " [707, 1.25],\n",
       " [708, 1.25],\n",
       " [709, 1.25],\n",
       " [710, 1.5],\n",
       " [711, 1.5],\n",
       " [712, 1.25],\n",
       " [713, 1.5],\n",
       " [714, 1.25],\n",
       " [715, 1.25],\n",
       " [716, 1.25],\n",
       " [717, 1.25]]"
      ]
     },
     "execution_count": 68,
     "metadata": {},
     "output_type": "execute_result"
    }
   ],
   "source": [
    "partFive(partTwo('TransactionData.csv', 11, 'output.csv'), 4, 664, 717)"
   ]
  },
  {
   "cell_type": "code",
   "execution_count": null,
   "id": "3ef7f639",
   "metadata": {},
   "outputs": [],
   "source": [
    "def partSix(weeklyUnitSold, a, fromWeek=664, to=717): #define function with three parameters\n",
    "    ES = []\n",
    "    \n",
    "    forecasted_value = weeklyUnitSold.iloc[fromWeek - 1,1]\n",
    "    \n",
    "    for week in range(fromWeek, to + 1): #iterate over the range of weeks for forecasting\n",
    "        forecasted_value = a * weeklyUnitSold.iloc[week - 1,1] + (1 - a) * forecasted_value #calculate the ES for the current week\n",
    "        \n",
    "        ES.append([week, forecasted_value]) #append the result to the matrix\n",
    "        \n",
    "    return ES"
   ]
  },
  {
   "cell_type": "code",
   "execution_count": null,
   "id": "16de95ec",
   "metadata": {},
   "outputs": [
    {
     "data": {
      "text/plain": [
       "[[664, 1.0],\n",
       " [665, 1.0],\n",
       " [666, 1.2000000000000002],\n",
       " [667, 1.1600000000000001],\n",
       " [668, 1.1280000000000001],\n",
       " [669, 1.1024],\n",
       " [670, 1.08192],\n",
       " [671, 1.065536],\n",
       " [672, 1.0524288000000002],\n",
       " [673, 1.0419430400000003],\n",
       " [674, 1.0335544320000003],\n",
       " [675, 1.2268435456000004],\n",
       " [676, 1.3814748364800002],\n",
       " [677, 1.3051798691840002],\n",
       " [678, 1.4441438953472003],\n",
       " [679, 1.5553151162777605],\n",
       " [680, 1.6442520930222084],\n",
       " [681, 1.715401674417767],\n",
       " [682, 2.1723213395342134],\n",
       " [683, 1.9378570716273706],\n",
       " [684, 1.7502856573018966],\n",
       " [685, 1.6002285258415172],\n",
       " [686, 1.6801828206732137],\n",
       " [687, 1.544146256538571],\n",
       " [688, 1.4353170052308568],\n",
       " [689, 1.3482536041846855],\n",
       " [690, 1.2786028833477485],\n",
       " [691, 1.2228823066781989],\n",
       " [692, 1.1783058453425592],\n",
       " [693, 1.3426446762740474],\n",
       " [694, 1.2741157410192379],\n",
       " [695, 1.6192925928153905],\n",
       " [696, 1.4954340742523125],\n",
       " [697, 1.59634725940185],\n",
       " [698, 1.67707780752148],\n",
       " [699, 1.541662246017184],\n",
       " [700, 1.4333297968137473],\n",
       " [701, 1.3466638374509978],\n",
       " [702, 1.2773310699607983],\n",
       " [703, 1.2218648559686387],\n",
       " [704, 1.3774918847749111],\n",
       " [705, 1.301993507819929],\n",
       " [706, 1.2415948062559432],\n",
       " [707, 1.1932758450047547],\n",
       " [708, 1.3546206760038038],\n",
       " [709, 1.283696540803043],\n",
       " [710, 1.4269572326424345],\n",
       " [711, 1.3415657861139476],\n",
       " [712, 1.273252628891158],\n",
       " [713, 1.4186021031129266],\n",
       " [714, 1.3348816824903413],\n",
       " [715, 1.2679053459922731],\n",
       " [716, 1.2143242767938185],\n",
       " [717, 1.3714594214350548]]"
      ]
     },
     "execution_count": 70,
     "metadata": {},
     "output_type": "execute_result"
    }
   ],
   "source": [
    "partSix(partTwo('TransactionData.csv', 11, 'output.csv'), 0.2, 664, 717)"
   ]
  },
  {
   "cell_type": "code",
   "execution_count": null,
   "id": "8d0e6404",
   "metadata": {},
   "outputs": [],
   "source": [
    "def partSeven(forecastingResults, trueOutcomes): #define function with three parameters\n",
    "    \n",
    "    squaredErrorsSum = 0\n",
    "    \n",
    "    for i in range(len(forecastingResults)): #iterate over each pair of forecasted and true values\n",
    "        squaredErrorsSum += (forecastingResults[i][1] - trueOutcomes.iloc[i,1]) ** 2 #compute the squared error for the current pair and add it to the sum\n",
    "    \n",
    "    MSE = squaredErrorsSum / len(forecastingResults) # Calculate the mean squared error\n",
    "        \n",
    "    return MSE"
   ]
  },
  {
   "cell_type": "code",
   "execution_count": null,
   "id": "28025651",
   "metadata": {},
   "outputs": [],
   "source": [
    "def analysisN(itemType): #analysis function for calculating the MSE based on results from n period MA\n",
    "    NArray = []\n",
    "    for i in range(3, 6): #for loop for iterating each caluclation with a new n-period value\n",
    "        NArray.append(partSeven(partFive(partTwo('TransactionData.csv', itemType, 'output.csv'), i, 664, 717), partTwo('TransactionData.csv', itemType, 'output.csv')))\n",
    "    return NArray"
   ]
  },
  {
   "cell_type": "markdown",
   "id": "6ed5ac08",
   "metadata": {},
   "source": [
    "<h1>5) Analysis Results</h1>"
   ]
  },
  {
   "cell_type": "code",
   "execution_count": null,
   "id": "7a3c7f41",
   "metadata": {},
   "outputs": [
    {
     "data": {
      "text/plain": [
       "[0.018867924528301886, 0.018867924528301886, 0.018867924528301886]"
      ]
     },
     "execution_count": 73,
     "metadata": {},
     "output_type": "execute_result"
    }
   ],
   "source": [
    "analysisN(5) #analysis function for calculating the MSE based on results from n period MA"
   ]
  },
  {
   "cell_type": "code",
   "execution_count": null,
   "id": "02555f55",
   "metadata": {},
   "outputs": [],
   "source": [
    "def analysisA(itemType): #analysis function for calculating the MSE based on results from exponential smoothing\n",
    "    AArray = []\n",
    "    for i in range(1, 10): #for loop for iterating through each value of alpha (0.1,0.2,...,0.9)\n",
    "        value = i / 10.0\n",
    "        AArray.append(partSeven(partSix(partTwo('TransactionData.csv', itemType, 'output.csv'), value, 664, 717), partTwo('TransactionData.csv', itemType, 'output.csv')))\n",
    "    \n",
    "    return AArray"
   ]
  },
  {
   "cell_type": "code",
   "execution_count": null,
   "id": "28a3ebce",
   "metadata": {},
   "outputs": [
    {
     "data": {
      "text/plain": [
       "[0.018518518518518517,\n",
       " 0.018518518518518517,\n",
       " 0.018518518518518517,\n",
       " 0.018518518518518517,\n",
       " 0.018518518518518517,\n",
       " 0.018518518518518517,\n",
       " 0.018518518518518517,\n",
       " 0.018518518518518517,\n",
       " 0.018518518518518517]"
      ]
     },
     "execution_count": 75,
     "metadata": {},
     "output_type": "execute_result"
    }
   ],
   "source": [
    "analysisA(5) #analysis function for calculating the MSE based on results from exponential smoothing"
   ]
  },
  {
   "cell_type": "code",
   "execution_count": null,
   "id": "1fd1df04",
   "metadata": {},
   "outputs": [],
   "source": [
    "def finalAnalysis():\n",
    "    analysis = pd.DataFrame({'Item Type': [24,13,2,5], \"\"\"\"'Best 'n' Value'\"\"\": [5, 5, 5, \"\"\"'doesn't matter'\"\"\"], 'Best Alpha': [0.1,0.1,0.2,\"\"\"'doesn't matter'\"\"\"]}) \n",
    "    return analysis"
   ]
  },
  {
   "cell_type": "code",
   "execution_count": null,
   "id": "1ccf6a4d",
   "metadata": {},
   "outputs": [
    {
     "data": {
      "text/html": [
       "<div>\n",
       "<style scoped>\n",
       "    .dataframe tbody tr th:only-of-type {\n",
       "        vertical-align: middle;\n",
       "    }\n",
       "\n",
       "    .dataframe tbody tr th {\n",
       "        vertical-align: top;\n",
       "    }\n",
       "\n",
       "    .dataframe thead th {\n",
       "        text-align: right;\n",
       "    }\n",
       "</style>\n",
       "<table border=\"1\" class=\"dataframe\">\n",
       "  <thead>\n",
       "    <tr style=\"text-align: right;\">\n",
       "      <th></th>\n",
       "      <th>Item Type</th>\n",
       "      <th>\"'Best 'n' Value'</th>\n",
       "      <th>Best Alpha</th>\n",
       "    </tr>\n",
       "  </thead>\n",
       "  <tbody>\n",
       "    <tr>\n",
       "      <th>0</th>\n",
       "      <td>24</td>\n",
       "      <td>5</td>\n",
       "      <td>0.1</td>\n",
       "    </tr>\n",
       "    <tr>\n",
       "      <th>1</th>\n",
       "      <td>13</td>\n",
       "      <td>5</td>\n",
       "      <td>0.1</td>\n",
       "    </tr>\n",
       "    <tr>\n",
       "      <th>2</th>\n",
       "      <td>2</td>\n",
       "      <td>5</td>\n",
       "      <td>0.2</td>\n",
       "    </tr>\n",
       "    <tr>\n",
       "      <th>3</th>\n",
       "      <td>5</td>\n",
       "      <td>'doesn't matter'</td>\n",
       "      <td>'doesn't matter'</td>\n",
       "    </tr>\n",
       "  </tbody>\n",
       "</table>\n",
       "</div>"
      ],
      "text/plain": [
       "   Item Type \"'Best 'n' Value'        Best Alpha\n",
       "0         24                 5               0.1\n",
       "1         13                 5               0.1\n",
       "2          2                 5               0.2\n",
       "3          5  'doesn't matter'  'doesn't matter'"
      ]
     },
     "execution_count": 77,
     "metadata": {},
     "output_type": "execute_result"
    }
   ],
   "source": [
    "finalAnalysis() #final analysis table to display the best values for n and alpha for each itemType"
   ]
  },
  {
   "cell_type": "markdown",
   "id": "38dc323a",
   "metadata": {},
   "source": [
    "<h1>Insights</h1>\n",
    "<p>Throughout this project we learned how to use python to manipulate and analyze data easily to make future predictions. We succesfully utilized packages that allow us to observe the data and extract points needed to make predicitons for future data. Overall, we not only learned how to use python to analyze data, but to do it efficiently. Dr. Chen can now submit this report to the CEO regarding the status of the stores transactions to recieve his bonus.</p>"
   ]
  },
  {
   "cell_type": "markdown",
   "id": "2a05f54d",
   "metadata": {},
   "source": [
    "<h1>References</h1>\n",
    "<li>ISE224_LectureNote4_Decision Repetition Structures</li>\n",
    "<li>ISE224_LectureNote5_Functions</li>\n",
    "<li>ISE224_LectureNote6_Files and Excemptions</li>\n",
    "<li>ISE224_LectureNote7-1</li>\n",
    "<li>ISE224_LectureNote7-2</li>"
   ]
  },
  {
   "cell_type": "code",
   "execution_count": null,
   "id": "c9d218a4",
   "metadata": {},
   "outputs": [],
   "source": []
  }
 ],
 "metadata": {
  "kernelspec": {
   "display_name": "Python 3 (ipykernel)",
   "language": "python",
   "name": "python3"
  },
  "language_info": {
   "codemirror_mode": {
    "name": "ipython",
    "version": 3
   },
   "file_extension": ".py",
   "mimetype": "text/x-python",
   "name": "python",
   "nbconvert_exporter": "python",
   "pygments_lexer": "ipython3",
   "version": "3.11.9"
  }
 },
 "nbformat": 4,
 "nbformat_minor": 5
}
